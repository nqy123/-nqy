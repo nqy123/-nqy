{
 "cells": [
  {
   "cell_type": "markdown",
   "id": "f6e18f62",
   "metadata": {},
   "source": [
    "偏差与方差：利用水库水位变化预测大坝出水量"
   ]
  },
  {
   "cell_type": "code",
   "execution_count": null,
   "id": "3b0af159",
   "metadata": {},
   "outputs": [],
   "source": [
    "import numpy as np \n",
    "import pandas as pd  \n",
    "import matplotlib.pyplot as plt   \n",
    "import scipy.io as sio  \n",
    "from scipy.optimize import minimize\n",
    "from sklearn.preprocessing import PolynomialFeatures\n",
    "data=sio.loadmat(r\"C:\\Users\\HP\\Desktop\\高速下载-17457248894892024吴恩达资料\\2014版 吴恩达机器学习全套资料\\吴恩达机器学习课后作业源码及笔记\\ex5-bias vs variance\\ex5data1.mat\")"
   ]
  },
  {
   "cell_type": "code",
   "execution_count": null,
   "id": "f2605ef4",
   "metadata": {},
   "outputs": [],
   "source": [
    "#训练集\n",
    "x=data['X']\n",
    "y=data['y']\n",
    "#验证集\n",
    "xv=data['Xval']\n",
    "yv=data['yval']\n",
    "#测试集\n",
    "xt=data['Xtest']\n",
    "yt=data['ytest']\n",
    "fig,ax=plt.subplots(3,1,figsize=(8,12))\n",
    "ax[0].scatter(x,y)\n",
    "ax[1].scatter(xv,yv)\n",
    "ax[2].scatter(xt,yt)"
   ]
  },
  {
   "cell_type": "code",
   "execution_count": null,
   "id": "82b7ad39",
   "metadata": {},
   "outputs": [],
   "source": [
    "#训练训练集\n",
    "def pf(x):\n",
    "    return (x-x.mean())/x.std()#当多项式映射时纬度高必须要进行特征归一化，不然会梯度爆炸\n",
    "poly=PolynomialFeatures(degree=6)\n",
    "x=pf(x)\n",
    "x_po=poly.fit_transform(x)\n",
    "xv=pf(xv)#注意必须要特征归一化\n",
    "xv_po=poly.transform(xv)\n",
    "xt=pf(xt)\n",
    "xt_po=poly.transform(xt)\n",
    "def costFunction(x,y,theta,la):\n",
    "    inner=np.power(x@theta-y,2)\n",
    "    ou=np.sum(inner)/2/len(x)\n",
    "    re=la/2/len(x)*np.sum(theta[1:]**2)\n",
    "    return re+ou\n",
    "def tidu(x,y,theta,a,c,la,xv,yv):#训练集与测试集的损失函数比较\n",
    "    costs=[]\n",
    "    cv_cost=[]\n",
    "    for i in range(c):\n",
    "        re=la/len(x)*theta\n",
    "        re[0]=0\n",
    "        theta=theta-(x.T@(x@theta-y)/len(x)+re)*a\n",
    "        costs.append(costFunction(x,y,theta,la))\n",
    "        cv_cost.append(costFunction(xv,yv,theta,la))\n",
    "    return theta,costs,cv_cost\n",
    "theta=np.zeros((x_po.shape[1],1))\n",
    "a=0.01\n",
    "c=3000\n",
    "la=2\n",
    "theta,costs,cv_cost=tidu(x_po,y,theta,a,c,la,xv_po,yv)\n",
    "fig,ax=plt.subplots()\n",
    "ax.plot(np.arange(c),costs)\n",
    "ax.plot(np.arange(c),cv_cost)\n",
    "plt.show()\n",
    "x1=np.linspace(-1.5,2,100)\n",
    "x1_po=x1.reshape(len(x1),1)\n",
    "x1_po=poly.transform(x1_po)\n",
    "x1=x1.reshape(len(x1),1)"
   ]
  },
  {
   "cell_type": "code",
   "execution_count": null,
   "id": "4d79dadc",
   "metadata": {},
   "outputs": [],
   "source": [
    "#训练集观察\n",
    "fig,ax=plt.subplots()\n",
    "ax.scatter(x,y)\n",
    "ax.plot(x1,x1_po@theta,label='train')\n",
    "ax.legend()\n",
    "plt.show()\n",
    "#测试集观察\n",
    "fig,ax=plt.subplots()\n",
    "ax.scatter(xv,yv)\n",
    "ax.plot(x1,x1_po@theta,label='val')\n",
    "ax.legend()\n",
    "plt.show()\n",
    "#验证集观察\n",
    "fig,ax=plt.subplots()\n",
    "ax.scatter(xt,yt)\n",
    "ax.plot(x1,x1_po@theta,label='tcv')\n",
    "ax.legend()\n",
    "plt.show()"
   ]
  }
 ],
 "metadata": {
  "kernelspec": {
   "display_name": "Python 3",
   "language": "python",
   "name": "python3"
  },
  "language_info": {
   "codemirror_mode": {
    "name": "ipython",
    "version": 3
   },
   "file_extension": ".py",
   "mimetype": "text/x-python",
   "name": "python",
   "nbconvert_exporter": "python",
   "pygments_lexer": "ipython3",
   "version": "3.12.6"
  }
 },
 "nbformat": 4,
 "nbformat_minor": 5
}
