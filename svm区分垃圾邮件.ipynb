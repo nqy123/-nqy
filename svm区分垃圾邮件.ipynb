{
 "cells": [
  {
   "cell_type": "markdown",
   "id": "f7870db9",
   "metadata": {},
   "source": [
    "svm区分垃圾邮件:"
   ]
  },
  {
   "cell_type": "code",
   "execution_count": 6,
   "id": "a42a22a2",
   "metadata": {},
   "outputs": [
    {
     "name": "stdout",
     "output_type": "stream",
     "text": [
      "0.974\n",
      "0.972\n"
     ]
    }
   ],
   "source": [
    "import numpy as np \n",
    "import pandas as pygame\n",
    "import matplotlib.pyplot as plt \n",
    "import scipy.io as sio \n",
    "from sklearn.svm import SVC\n",
    "data=sio.loadmat(r\"C:\\Users\\HP\\Desktop\\高速下载-17457248894892024吴恩达资料\\2014版 吴恩达机器学习全套资料\\吴恩达机器学习课后作业源码及笔记\\ex6-SVM\\data\\spamTrain.mat\")\n",
    "x=data['X']\n",
    "y=data['y']\n",
    "data1=sio.loadmat(r\"C:\\Users\\HP\\Desktop\\高速下载-17457248894892024吴恩达资料\\2014版 吴恩达机器学习全套资料\\吴恩达机器学习课后作业源码及笔记\\ex6-SVM\\data\\spamTest.mat\")\n",
    "xt=data1['Xtest']\n",
    "yt=data1['ytest']\n",
    "svc1=SVC(C=0.3,kernel='rbf')\n",
    "svc1.fit(x,y.ravel())\n",
    "print(svc1.score(x,y.ravel()))\n",
    "print(svc1.score(xt,yt.ravel()))"
   ]
  }
 ],
 "metadata": {
  "kernelspec": {
   "display_name": "Python 3",
   "language": "python",
   "name": "python3"
  },
  "language_info": {
   "codemirror_mode": {
    "name": "ipython",
    "version": 3
   },
   "file_extension": ".py",
   "mimetype": "text/x-python",
   "name": "python",
   "nbconvert_exporter": "python",
   "pygments_lexer": "ipython3",
   "version": "3.12.6"
  }
 },
 "nbformat": 4,
 "nbformat_minor": 5
}
