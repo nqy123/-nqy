{
 "cells": [
  {
   "cell_type": "markdown",
   "id": "59d6e9eb",
   "metadata": {},
   "source": [
    "线性可分支持向量机：\n",
    "观察C取值对决策边界的影响"
   ]
  },
  {
   "cell_type": "code",
   "execution_count": null,
   "id": "9c737074",
   "metadata": {},
   "outputs": [],
   "source": [
    "import numpy as np \n",
    "import pandas as pd  \n",
    "import matplotlib.pyplot as plt \n",
    "import scipy.io as sio  \n",
    "from sklearn.svm import SVC#从 scikit-learn（sklearn）库中导入支持向量分类器\n",
    "data=sio.loadmat(r\"C:\\Users\\HP\\Desktop\\高速下载-17457248894892024吴恩达资料\\2014版 吴恩达机器学习全套资料\\吴恩达机器学习课后作业源码及笔记\\ex6-SVM\\data\\ex6data1.mat\")\n",
    "data.keys()#返回字典"
   ]
  },
  {
   "cell_type": "code",
   "execution_count": null,
   "id": "89cc21ad",
   "metadata": {},
   "outputs": [],
   "source": [
    "x=data['X']\n",
    "y=data['y']#x,y是数组\n",
    "plt.scatter(x[:,0],x[:,1],c=y.ravel(),cmap='jet')#c 参数用于指定散点的颜色，它要求输入一个一维数组（或与点数量相同的标量序列），每个元素对应一个点的颜色值"
   ]
  },
  {
   "cell_type": "markdown",
   "id": "a9baf192",
   "metadata": {},
   "source": [
    "'rbf'（径向基函数，默认值）：适用于非线性数据，泛化能力强\n",
    "'poly'（多项式核函数）：适用于有多项式关系的数据\n",
    "'sigmoid'：类似神经网络中的激活函数\n",
    "C 是正则化参数，控制着对错误分类样本的惩罚程度。\n",
    "C值越大：对错误分类的惩罚越重，模型会尽量将所有训练样本正确分类，可能导致过拟合（模型在训练集表现好，但泛化能力差）\n",
    "C 值越小：对错误分类的惩罚越轻，允许更多的错误分类，模型可能更简单，泛化能力更好，但可能欠拟合"
   ]
  },
  {
   "cell_type": "code",
   "execution_count": null,
   "id": "70c82daf",
   "metadata": {},
   "outputs": [],
   "source": [
    "svc1=SVC(C=1,kernel='linear')#指定 SVM 使用的核函数类型为线性核函数。\n",
    "svc1.fit(x,y.ravel())#y必须是一维数组\n",
    "svc1.predict(x)\n",
    "svc1.score(x,y.ravel())\n",
    "#可视化\n",
    "x1=np.linspace(-0.5,4.5,500)\n",
    "x2=np.linspace(1.3,5,500)\n",
    "x1,x2=np.meshgrid(x1,x2)\n",
    "z=svc1.predict(np.c_[x1.ravel(),x2.ravel()])#将网格点张开，连接生成（x，y）对，即和原来的svc1.predict(x)中的x同样形状\n",
    "print(z.shape)\n",
    "z=z.reshape(x1.shape)\n",
    "print(z.shape)\n",
    "plt.contour(x1,x2,z)#因此 plt.contour(x1, x2, z) 会绘制出 z=0 和 z=1 之间的分界线，这条线的线值就是分类阈值（通常为 0.5 附近，但在 SVM 中对应 z=0 的决策边界）\n",
    "plt.scatter(x[:,0],x[:,1],c=y.ravel(),cmap='jet')"
   ]
  },
  {
   "cell_type": "markdown",
   "id": "62fe5ff6",
   "metadata": {},
   "source": [
    "                                                     LogisticRegression"
   ]
  },
  {
   "cell_type": "code",
   "execution_count": null,
   "id": "be1d142f",
   "metadata": {},
   "outputs": [],
   "source": [
    "import numpy as np \n",
    "import pandas as pd  \n",
    "import matplotlib.pyplot as plt \n",
    "import scipy.io as sio  \n",
    "from sklearn.linear_model import LogisticRegression\n",
    "from sklearn.model_selection import train_test_split\n",
    "data=sio.loadmat(r\"C:\\Users\\HP\\Desktop\\高速下载-17457248894892024吴恩达资料\\2014版 吴恩达机器学习全套资料\\吴恩达机器学习课后作业源码及笔记\\ex6-SVM\\data\\ex6data1.mat\")\n",
    "x=data['X']\n",
    "y=data['y'].ravel()\n",
    "x_train,x_test,y_train,y_test=train_test_split(\n",
    "    x,y,test_size=0.2,stratify=y,random_state=45\n",
    ")\n",
    "model=LogisticRegression(C=1.0)\n",
    "model.fit(x_train,y_train)\n",
    "print(model.score(x_train,y_train))\n",
    "print(model.score(x_test,y_test))\n",
    "x1=np.linspace(0,4,100)\n",
    "x1,x2=np.meshgrid(x1,x1)\n",
    "p=np.c_[x1.ravel(),x2.ravel()]\n",
    "z=model.predict(p).reshape(x1.shape)\n",
    "fig,ax=plt.subplots(2,1,figsize=(6,8))\n",
    "ax[0].contour(x1,x2,z)\n",
    "ax[0].scatter(x_train[:,0],x_train[:,1],c=y_train,cmap='jet')\n",
    "ax[1].contour(x1,x2,z)\n",
    "ax[1].scatter(x_test[:,0],x_test[:,0],c=y_test,cmap='jet')"
   ]
  },
  {
   "cell_type": "markdown",
   "id": "99f39aac",
   "metadata": {},
   "source": [
    "                                                                决策树"
   ]
  },
  {
   "cell_type": "code",
   "execution_count": null,
   "id": "7cade7d7",
   "metadata": {},
   "outputs": [],
   "source": [
    "import numpy as np \n",
    "import pandas as pd  \n",
    "import matplotlib.pyplot as plt \n",
    "import scipy.io as sio  \n",
    "from sklearn.tree import DecisionTreeClassifier\n",
    "from sklearn.model_selection import train_test_split,GridSearchCV\n",
    "data=sio.loadmat(r\"C:\\Users\\HP\\Desktop\\高速下载-17457248894892024吴恩达资料\\2014版 吴恩达机器学习全套资料\\吴恩达机器学习课后作业源码及笔记\\ex6-SVM\\data\\ex6data1.mat\")\n",
    "x=data['X']\n",
    "y=data['y'].ravel()\n",
    "x_train,x_test,y_train,y_test=train_test_split(\n",
    "    x,y,test_size=0.2,stratify=y,random_state=45\n",
    ")\n",
    "p={'max_depth':[2,3,4,5,6],'min_samples_leaf':[2,3,4,5,6,7,8],'min_samples_split':[2,3,4,5,6,7,8]}\n",
    "g=GridSearchCV(DecisionTreeClassifier(),p,cv=5)\n",
    "g.fit(x_train,y_train)\n",
    "print(g.best_params_)\n",
    "print(g.best_score_)\n",
    "model=DecisionTreeClassifier(\n",
    "    max_depth=2,\n",
    "    min_samples_leaf=2,\n",
    "    min_samples_split=2\n",
    ")\n",
    "model.fit(x_train,y_train)\n",
    "print(model.score(x_train,y_train))\n",
    "print(model.score(x_test,y_test))\n",
    "x1=np.linspace(0,4,100)\n",
    "x1,x2=np.meshgrid(x1,x1)\n",
    "p=np.c_[x1.ravel(),x2.ravel()]\n",
    "z=model.predict(p).reshape(x1.shape)\n",
    "fig,ax=plt.subplots(2,1,figsize=(6,8))\n",
    "ax[0].contour(x1,x2,z)\n",
    "ax[0].scatter(x_train[:,0],x_train[:,1],c=y_train,cmap='jet')\n",
    "ax[1].contour(x1,x2,z)\n",
    "ax[1].scatter(x_test[:,0],x_test[:,0],c=y_test,cmap='jet')"
   ]
  },
  {
   "cell_type": "markdown",
   "id": "314b6146",
   "metadata": {},
   "source": [
    "                                                                随机森林                                                            "
   ]
  },
  {
   "cell_type": "code",
   "execution_count": null,
   "id": "cda8e6ff",
   "metadata": {},
   "outputs": [],
   "source": [
    "import numpy as np \n",
    "import pandas as pd  \n",
    "import matplotlib.pyplot as plt \n",
    "import scipy.io as sio  \n",
    "from sklearn.ensemble import RandomForestClassifier\n",
    "from sklearn.model_selection import train_test_split,GridSearchCV\n",
    "data=sio.loadmat(r\"C:\\Users\\HP\\Desktop\\高速下载-17457248894892024吴恩达资料\\2014版 吴恩达机器学习全套资料\\吴恩达机器学习课后作业源码及笔记\\ex6-SVM\\data\\ex6data1.mat\")\n",
    "x=data['X']\n",
    "y=data['y'].ravel()\n",
    "x_train,x_test,y_train,y_test=train_test_split(\n",
    "    x,y,test_size=0.2,stratify=y,random_state=45\n",
    ")\n",
    "p={'max_depth':[2,3,4,5,6],'min_samples_leaf':[2,3,4,5,6,7,8],'min_samples_split':[2,3,4,5,6,7,8],'n_estimators':[100,200,300,400,500]}\n",
    "#g=GridSearchCV(RandomForestClassifier(),p,cv=5)\n",
    "model=RandomForestClassifier(\n",
    "    max_depth=3,\n",
    "    min_samples_leaf=2,\n",
    "    min_samples_split=7,\n",
    "    n_estimators=200\n",
    ")\n",
    "model.fit(x_train,y_train)\n",
    "print(model.score(x_train,y_train))\n",
    "print(model.score(x_test,y_test))\n",
    "x1=np.linspace(0,4,100)\n",
    "x1,x2=np.meshgrid(x1,x1)\n",
    "p=np.c_[x1.ravel(),x2.ravel()]\n",
    "z=model.predict(p).reshape(x1.shape)\n",
    "fig,ax=plt.subplots(2,1,figsize=(6,8))\n",
    "ax[0].contour(x1,x2,z)\n",
    "ax[0].scatter(x_train[:,0],x_train[:,1],c=y_train,cmap='jet')\n",
    "ax[1].contour(x1,x2,z)\n",
    "ax[1].scatter(x_test[:,0],x_test[:,0],c=y_test,cmap='jet')"
   ]
  }
 ],
 "metadata": {
  "kernelspec": {
   "display_name": "Python 3",
   "language": "python",
   "name": "python3"
  },
  "language_info": {
   "codemirror_mode": {
    "name": "ipython",
    "version": 3
   },
   "file_extension": ".py",
   "mimetype": "text/x-python",
   "name": "python",
   "nbconvert_exporter": "python",
   "pygments_lexer": "ipython3",
   "version": "3.12.6"
  }
 },
 "nbformat": 4,
 "nbformat_minor": 5
}
