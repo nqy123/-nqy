{
 "cells": [
  {
   "cell_type": "markdown",
   "id": "6e41eb29",
   "metadata": {},
   "source": [
    "多变量:假如你打算卖房子,预测房子的价格,已知房子面积,房间数量和相对应的价格"
   ]
  },
  {
   "cell_type": "code",
   "execution_count": null,
   "id": "b58df8b4",
   "metadata": {},
   "outputs": [],
   "source": [
    "\n",
    "import pandas as pd\n",
    "import numpy as np\n",
    "import matplotlib.pyplot as plt\n",
    "data=pd.read_csv(r\"C:\\Users\\HP\\Desktop\\高速下载-17457248894892024吴恩达资料\\2014版 吴恩达机器学习全套资料\\吴恩达机器学习课后作业源码及笔记\\ex1-linear regression\\ex1data2.txt\",header=None,names=['size','bedroom','price'])\n",
    "data.head()\n"
   ]
  },
  {
   "cell_type": "markdown",
   "id": "16a9ae2b",
   "metadata": {},
   "source": [
    "特征归一化:(xi-min(xi))/max(xi)-min(xi),范围[0,1]\n",
    "(xi-u)/kez,kez为方差,u为均值,[-1,1]"
   ]
  },
  {
   "cell_type": "code",
   "execution_count": null,
   "id": "c3d28f1b",
   "metadata": {},
   "outputs": [],
   "source": [
    "def nf(data):\n",
    "    return (data-data.mean())/data.std()#mean和std所有数据类型都通用\n",
    "data=nf(data)\n",
    "fig = plt.figure()#作用：Figure 是 Matplotlib 中最顶层的容器，包含所有的绘图元素（如坐标轴、标题、图例等）。\n",
    "ax = fig.add_subplot(111, projection='3d')#111：表示子图的布局，等同于 (1, 1, 1)，即 1 行 1 列的第 1 个子图。\n",
    "#若改为 211，则表示将画布分为 2 行 1 列，选择第 1 个子图（即上方的子图）。\n",
    "#projection='3d'：指定子图的投影类型为三维（3D）。默认情况下，add_subplot() 创建的是二维子图，添加此参数后变为三维坐标系。\n",
    "\n",
    "\n",
    "# 绘制三维散点图\n",
    "ax.scatter(data['size'], data['bedroom'], data['price'])\n",
    "\n",
    "# 设置坐标轴标签\n",
    "ax.set_xlabel('size')\n",
    "ax.set_ylabel('bedroom')\n",
    "ax.set_zlabel('price')\n",
    "\n",
    "# 显示图形\n",
    "plt.show()"
   ]
  },
  {
   "cell_type": "code",
   "execution_count": null,
   "id": "51ad04fa",
   "metadata": {},
   "outputs": [],
   "source": [
    "data.insert(0,'ones',1)\n",
    "data.head()"
   ]
  },
  {
   "cell_type": "code",
   "execution_count": null,
   "id": "5d6ca914",
   "metadata": {},
   "outputs": [],
   "source": [
    "x=data.iloc[:,0:-1]\n",
    "y=data.iloc[:,-1]\n",
    "x=np.array(x)\n",
    "y=np.array(y)\n",
    "y=y.reshape(47,1)#为什么有和没有结果不一样,哪种对"
   ]
  },
  {
   "cell_type": "code",
   "execution_count": null,
   "id": "a27f5763",
   "metadata": {},
   "outputs": [],
   "source": [
    "def costFunction(x,y,theta):\n",
    "    inner=np.power((x@theta-y),2)\n",
    "    return np.sum(inner)/(2*len(x))\n",
    "theta=np.zeros((3,1))\n",
    "def tidu(x,y,theta,a,c):\n",
    "    costs=[]\n",
    "    for i in range(c):\n",
    "        theta=theta-(x.T@(x@theta-y))*a/len(x)\n",
    "        costs.append(costFunction(x,y,theta))\n",
    "    return theta,costs    \n",
    "c=200000"
   ]
  },
  {
   "cell_type": "markdown",
   "id": "3ec62a58",
   "metadata": {},
   "source": [
    "比较不同a的值的迭代效果"
   ]
  },
  {
   "cell_type": "code",
   "execution_count": null,
   "id": "b49c4489",
   "metadata": {},
   "outputs": [],
   "source": [
    "fig,ax=plt.subplots()\n",
    "a=[0.003,0.03,0.01,0.002]\n",
    "for i in a:\n",
    "    m,Costs=tidu(x,y,theta,i,c)\n",
    "    ax.plot(np.arange(c),Costs,label=i)\n",
    "ax.set(xlabel='diedai',ylabel='cost')\n",
    "ax.legend()\n",
    "plt.show()    \n",
    "a1=0.003"
   ]
  },
  {
   "cell_type": "code",
   "execution_count": null,
   "id": "61837696",
   "metadata": {},
   "outputs": [],
   "source": [
    "theta,cost=tidu(x,y,theta,a1,c)\n",
    "x1=np.linspace(x[:,1].min(),x[:,1].max(),100)\n",
    "x2=np.linspace(x[:,2].min(),x[:,2].max(),100)\n",
    "x1,x2=np.meshgrid(x1,x2)\n",
    "h=theta[0,0]+theta[1,0]*x1+theta[2,0]*x2\n",
    "fig = plt.figure()\n",
    "ax = fig.add_subplot(111, projection='3d')\n",
    "ax.scatter(data['size'],data['bedroom'],data['price'])#为啥这和ax.scatter(x[:,1],x[:,2],y)不一样\n",
    "ax.plot_surface(x1,x2, h, alpha=0.5, label='predict')#采用plot_surface函数绘制三维曲面图,对于 Matplotlib 中基于网格的三维可视化（如 3D 曲面图、等高线图），输入的数据通常需要是二维数组。\n",
    "ax.set(xlabel='size',ylabel='bedroom',zlabel='price',title='vs')\n",
    "ax.legend()\n",
    "plt.show()"
   ]
  },
  {
   "cell_type": "markdown",
   "id": "24ceaef3",
   "metadata": {},
   "source": [
    "绘制三维图形:\n",
    "图形指令:fig = plt.figure()\n",
    "ax = fig.add_subplot(111, projection='3d')\n",
    "plt.bar()绘制柱状图\n",
    "绘制三维曲面图\n",
    "# 定义 x 和 y 轴的范围\n",
    "x = np.linspace(-5, 5, 100)\n",
    "y = np.linspace(-5, 5, 100)\n",
    "\n",
    "# 生成二维坐标网格\n",
    "X, Y = np.meshgrid(x, y)\n",
    "x.plot_surface(X, Y, Z, cmap='viridis')\n",
    "\n",
    "生成二维网格的目的是为了在三维空间中定义一个完整的坐标系统。在绘制三维曲面时，需要为每个(x, y)坐标对计算对应的z值。通过meshgrid生成的二维网格，可以方便地进行向量化计算，直接得到所有网格点的z值，从而构建出完整的曲面。\n",
    "即将x和y所有的点都进行排列组合"
   ]
  },
  {
   "cell_type": "markdown",
   "id": "81421e32",
   "metadata": {},
   "source": [
    "                                                     LinearRegression"
   ]
  },
  {
   "cell_type": "code",
   "execution_count": null,
   "id": "fe9fb9ef",
   "metadata": {},
   "outputs": [],
   "source": [
    "import matplotlib.pyplot as plt \n",
    "import numpy as np \n",
    "import pandas as pd   \n",
    "from sklearn.model_selection import train_test_split,GridSearchCV\n",
    "from sklearn.linear_model import LinearRegression\n",
    "data=pd.read_csv(r\"C:\\Users\\HP\\Desktop\\高速下载-17457248894892024吴恩达资料\\2014版 吴恩达机器学习全套资料\\吴恩达机器学习课后作业源码及笔记\\ex1-linear regression\\ex1data2.txt\",header=None,names=['size','bedroom','price'])\n",
    "def pf(x):\n",
    "    return (x-x.mean())/x.std()\n",
    "data=pf(data)\n",
    "x=data.iloc[:,0:-1]\n",
    "y=data.iloc[:,-1]\n",
    "x=np.array(x)\n",
    "y=np.array(y)\n",
    "x_train,x_test,y_train,y_test=train_test_split(\n",
    "    x,y,test_size=0.2,random_state=42\n",
    ")\n",
    "model=LinearRegression()\n",
    "model.fit(x_train,y_train)\n",
    "print(model.score(x_train,y_train))\n",
    "print(model.score(x_test,y_test))\n",
    "x1=np.linspace(x[:,0].min(),x[:,0].max(),100)\n",
    "x2=np.linspace(x[:,1].min(),x[:,1].max(),100)\n",
    "x1,x2=np.meshgrid(x1,x2)\n",
    "fig = plt.figure()\n",
    "ax = fig.add_subplot(111, projection='3d')\n",
    "ax.scatter(data['size'],data['bedroom'],data['price'])\n",
    "ax.plot_surface(x1,x2,model.predict(np.c_[x1.ravel(),x2.ravel()]).reshape(x1.shape), alpha=0.5, label='predict')#注意是二维数组\n",
    "ax.set(xlabel='size',ylabel='bedroom',zlabel='price',title='vs')\n",
    "ax.legend()\n",
    "plt.show()"
   ]
  },
  {
   "cell_type": "markdown",
   "id": "753d9231",
   "metadata": {},
   "source": [
    "                                                                  SVR\n",
    "                                                            之所以会出现过拟合是因为数据量太小"
   ]
  },
  {
   "cell_type": "code",
   "execution_count": null,
   "id": "c0ce22bd",
   "metadata": {},
   "outputs": [],
   "source": [
    "import matplotlib.pyplot as plt \n",
    "import pandas as pd  \n",
    "import numpy as np  \n",
    "from sklearn.model_selection import train_test_split,GridSearchCV\n",
    "from sklearn.svm import SVR  \n",
    "data=pd.read_csv(r\"C:\\Users\\HP\\Desktop\\高速下载-17457248894892024吴恩达资料\\2014版 吴恩达机器学习全套资料\\吴恩达机器学习课后作业源码及笔记\\ex1-linear regression\\ex1data2.txt\",header=None,names=['size','bedroom','price'])\n",
    "def pf(x):\n",
    "    return (x-x.mean())/x.std()\n",
    "data=pf(data)\n",
    "x=data.iloc[:,0:-1]\n",
    "y=data.iloc[:,-1]\n",
    "x=np.array(x)\n",
    "y=np.array(y)\n",
    "x_train,x_test,y_train,y_test=train_test_split(\n",
    "    x,y,test_size=0.2,random_state=42\n",
    ")\n",
    "p={'C':[0.5,1.0,2,1.2,1.5,3,2.2],'kernel':['rbf','linear'],'gamma':[10,12,15,20]}\n",
    "g=GridSearchCV(SVR(),p,cv=5)\n",
    "g.fit(x_train,y_train)\n",
    "model=SVR(kernel='linear',C=1.0)\n",
    "model.fit(x_train,y_train)\n",
    "print(g.best_params_)\n",
    "print(g.best_score_)\n",
    "print(model.score(x_train,y_train))\n",
    "print(model.score(x_test,y_test))\n",
    "x1=np.linspace(x[:,0].min(),x[:,0].max(),100)\n",
    "x2=np.linspace(x[:,1].min(),x[:,1].max(),100)\n",
    "x1,x2=np.meshgrid(x1,x2)\n",
    "fig = plt.figure()\n",
    "ax = fig.add_subplot(111, projection='3d')\n",
    "ax.scatter(data['size'],data['bedroom'],data['price'])\n",
    "ax.plot_surface(x1,x2,model.predict(np.c_[x1.ravel(),x2.ravel()]).reshape(x1.shape), alpha=0.5, label='predict')#注意是二维数组\n",
    "ax.set(xlabel='size',ylabel='bedroom',zlabel='price',title='vs')\n",
    "ax.legend()\n",
    "plt.show()"
   ]
  },
  {
   "cell_type": "markdown",
   "id": "a3d5e179",
   "metadata": {},
   "source": [
    "                                                          决策树"
   ]
  },
  {
   "cell_type": "code",
   "execution_count": null,
   "id": "a18caf8e",
   "metadata": {},
   "outputs": [],
   "source": [
    "import matplotlib.pyplot as plt \n",
    "import pandas as pd  \n",
    "import numpy as np  \n",
    "from sklearn.model_selection import train_test_split,GridSearchCV\n",
    "from sklearn.tree import DecisionTreeRegressor\n",
    "data=pd.read_csv(r\"C:\\Users\\HP\\Desktop\\高速下载-17457248894892024吴恩达资料\\2014版 吴恩达机器学习全套资料\\吴恩达机器学习课后作业源码及笔记\\ex1-linear regression\\ex1data2.txt\",header=None,names=['size','bedroom','price'])\n",
    "def pf(x):\n",
    "    return (x-x.mean())/x.std()\n",
    "data=pf(data)\n",
    "x=data.iloc[:,0:-1]\n",
    "y=data.iloc[:,-1]\n",
    "x=np.array(x)\n",
    "y=np.array(y)\n",
    "x_train,x_test,y_train,y_test=train_test_split(\n",
    "    x,y,test_size=0.2,random_state=42#固定取值，避免最佳参数一直在变\n",
    ")\n",
    "p={'max_depth':[8,10,2,4,5,6,3,12],'min_samples_leaf':[1,2,3,4,5,6,7],'min_samples_split':[1,2,3,4,5,6,7,8],'random_state':[42]}\n",
    "g=GridSearchCV(DecisionTreeRegressor(),p,cv=5)\n",
    "g.fit(x_train,y_train)\n",
    "print(g.best_params_)\n",
    "print(g.best_score_)\n",
    "model=DecisionTreeRegressor(\n",
    "    max_depth=3,\n",
    "    min_samples_leaf=5,\n",
    "    min_samples_split=2,\n",
    "    random_state=42\n",
    ")\n",
    "model.fit(x_train,y_train)\n",
    "print(model.score(x_train,y_train))\n",
    "print(model.score(x_test,y_test))\n",
    "x1=np.linspace(x[:,0].min(),x[:,0].max(),100)\n",
    "x2=np.linspace(x[:,1].min(),x[:,1].max(),100)\n",
    "x1,x2=np.meshgrid(x1,x2)\n",
    "fig = plt.figure()\n",
    "ax = fig.add_subplot(111, projection='3d')\n",
    "ax.scatter(data['size'],data['bedroom'],data['price'])\n",
    "ax.plot_surface(x1,x2,model.predict(np.c_[x1.ravel(),x2.ravel()]).reshape(x1.shape), alpha=0.5, label='predict')#注意是二维数组\n",
    "ax.set(xlabel='size',ylabel='bedroom',zlabel='price',title='vs')\n",
    "ax.legend()\n",
    "plt.show()"
   ]
  },
  {
   "cell_type": "markdown",
   "id": "2b2cf577",
   "metadata": {},
   "source": [
    "                                                                随机森林"
   ]
  },
  {
   "cell_type": "code",
   "execution_count": null,
   "id": "718391f6",
   "metadata": {},
   "outputs": [],
   "source": [
    "import matplotlib.pyplot as plt \n",
    "import pandas as pd  \n",
    "import numpy as np  \n",
    "from sklearn.model_selection import train_test_split,GridSearchCV\n",
    "from sklearn.ensemble import RandomForestRegressor\n",
    "data=pd.read_csv(r\"C:\\Users\\HP\\Desktop\\高速下载-17457248894892024吴恩达资料\\2014版 吴恩达机器学习全套资料\\吴恩达机器学习课后作业源码及笔记\\ex1-linear regression\\ex1data2.txt\",header=None,names=['size','bedroom','price'])\n",
    "def pf(x):\n",
    "    return (x-x.mean())/x.std()\n",
    "data=pf(data)\n",
    "x=data.iloc[:,0:-1]\n",
    "y=data.iloc[:,-1]\n",
    "x=np.array(x)\n",
    "y=np.array(y)\n",
    "x_train,x_test,y_train,y_test=train_test_split(\n",
    "    x,y,test_size=0.2,random_state=42#固定取值，避免最佳参数一直在变\n",
    ")\n",
    "p={'max_depth':[8,10,2,4,5,6,3,12],'min_samples_leaf':[1,2,3,4,5,6,7],'min_samples_split':[1,2,3,4,5,6,7,8],'random_state':[42],'n_estimators':[100,200,300,400]}\n",
    "#g=GridSearchCV(RandomForestRegressor(),p,cv=5)\n",
    "model=RandomForestRegressor(\n",
    "    max_depth=2,\n",
    "    min_samples_leaf=1,\n",
    "    min_samples_split=2,\n",
    "    random_state=42,\n",
    "    n_estimators=300\n",
    ")\n",
    "model.fit(x_train,y_train)\n",
    "print(model.score(x_train,y_train))\n",
    "print(model.score(x_test,y_test))\n",
    "x1=np.linspace(x[:,0].min(),x[:,0].max(),100)\n",
    "x2=np.linspace(x[:,1].min(),x[:,1].max(),100)\n",
    "x1,x2=np.meshgrid(x1,x2)\n",
    "fig = plt.figure()\n",
    "ax = fig.add_subplot(111, projection='3d')\n",
    "ax.scatter(data['size'],data['bedroom'],data['price'])\n",
    "ax.plot_surface(x1,x2,model.predict(np.c_[x1.ravel(),x2.ravel()]).reshape(x1.shape), alpha=0.5, label='predict')#注意是二维数组\n",
    "ax.set(xlabel='size',ylabel='bedroom',zlabel='price',title='vs')\n",
    "ax.legend()\n",
    "plt.show()"
   ]
  }
 ],
 "metadata": {
  "kernelspec": {
   "display_name": "Python 3",
   "language": "python",
   "name": "python3"
  },
  "language_info": {
   "codemirror_mode": {
    "name": "ipython",
    "version": 3
   },
   "file_extension": ".py",
   "mimetype": "text/x-python",
   "name": "python",
   "nbconvert_exporter": "python",
   "pygments_lexer": "ipython3",
   "version": "3.12.6"
  }
 },
 "nbformat": 4,
 "nbformat_minor": 5
}
